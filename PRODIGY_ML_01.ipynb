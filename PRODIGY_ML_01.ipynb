{
  "cells": [
    {
      "cell_type": "markdown",
      "metadata": {
        "id": "kpotVclS22F0"
      },
      "source": [
        "Importing Library"
      ]
    },
    {
      "cell_type": "code",
      "execution_count": 1,
      "metadata": {
        "id": "xxeklF2n2pLz"
      },
      "outputs": [],
      "source": [
        "import numpy as np\n",
        "import pandas as pd\n"
      ]
    },
    {
      "cell_type": "code",
      "execution_count": 2,
      "metadata": {
        "id": "L_2endMg3A3v"
      },
      "outputs": [],
      "source": [
        "np. random.seed(42)"
      ]
    },
    {
      "cell_type": "code",
      "execution_count": 3,
      "metadata": {
        "id": "RANQhs7q4J1t"
      },
      "outputs": [],
      "source": [
        "#number of samples\n",
        "n_sample=2000"
      ]
    },
    {
      "cell_type": "code",
      "execution_count": 8,
      "metadata": {
        "id": "0gusTAvG4TVG"
      },
      "outputs": [],
      "source": [
        "#generate the data\n",
        "\n",
        "data=pd.DataFrame({\n",
        "    'Bedrooms':np.random.randint(low=0,high=5,size=n_sample),\n",
        "    'Area':np.random.randint(low=1000,high=5000,size=n_sample),\n",
        "    'Bathrooms':np.random.randint(low=0,high=5,size=n_sample),\n",
        "    'ParkingSpaces':np.random.randint(low=0,high=5,size=n_sample),\n",
        "    'Age':np.random.randint(low=1,high=70,size=n_sample),\n",
        "    'Price':np.random.randint(low=100000,high=1000000,size=n_sample),\n",
        "    'Location':np.random.choice(['Kolkata','Bhopal', 'Goa']),\n",
        "\n",
        "})\n"
      ]
    },
    {
      "cell_type": "code",
      "execution_count": 9,
      "metadata": {
        "colab": {
          "base_uri": "https://localhost:8080/"
        },
        "id": "7DM7cpt65Yal",
        "outputId": "714728a1-2a50-4d16-bbac-b75d2c6c683c"
      },
      "outputs": [
        {
          "name": "stdout",
          "output_type": "stream",
          "text": [
            "      Bedrooms  Area  Bathrooms  ParkingSpaces  Age   Price Location\n",
            "0            4  4468          3              4   15  100357  Kolkata\n",
            "1            0  1144          1              1    3  334788  Kolkata\n",
            "2            4  3634          3              2   24  463682  Kolkata\n",
            "3            1  4770          2              1   41  747059  Kolkata\n",
            "4            0  3569          4              2   63  510018  Kolkata\n",
            "...        ...   ...        ...            ...  ...     ...      ...\n",
            "1995         0  1256          3              1    5  513600  Kolkata\n",
            "1996         1  4914          0              2   22  170081  Kolkata\n",
            "1997         2  4333          4              1   28  629627  Kolkata\n",
            "1998         2  3134          0              4    4  421631  Kolkata\n",
            "1999         4  1904          3              1   50  616960  Kolkata\n",
            "\n",
            "[2000 rows x 7 columns]\n"
          ]
        }
      ],
      "source": [
        "print(data)"
      ]
    },
    {
      "cell_type": "code",
      "execution_count": 10,
      "metadata": {
        "id": "Zrm5yofN5au8"
      },
      "outputs": [],
      "source": [
        "#calculating price\n",
        "\n",
        "data['price']=(\n",
        "    8000+ data['Bedrooms']*4000+ data['Bathrooms']*1000 + data['Area']*60 - data['Age']*500+ \n",
        "    np.where(data['Location']=='Kolkata',200000, np.where(data['Location']=='Goa',1000000,200000)) + data['ParkingSpaces']*40000+ np.random.normal(0,2000,n_sample)\n",
        ")"
      ]
    },
    {
      "cell_type": "code",
      "execution_count": 12,
      "metadata": {},
      "outputs": [
        {
          "name": "stdout",
          "output_type": "stream",
          "text": [
            "0       649846.370828\n",
            "1       314484.982655\n",
            "2       513847.634788\n",
            "3       520157.658718\n",
            "4       475271.479127\n",
            "            ...      \n",
            "1995    327604.641681\n",
            "1996    574627.861642\n",
            "1997    503740.420249\n",
            "1998    563243.220965\n",
            "1999    353636.503756\n",
            "Name: price, Length: 2000, dtype: float64\n"
          ]
        }
      ],
      "source": [
        "print(data['price'])"
      ]
    },
    {
      "cell_type": "code",
      "execution_count": 13,
      "metadata": {},
      "outputs": [
        {
          "name": "stdout",
          "output_type": "stream",
          "text": [
            "dataset created and sace\n"
          ]
        }
      ],
      "source": [
        "data.to_csv(\"house_prices_synthetic.csv\", index=False)\n",
        "\n",
        "print('dataset created and sace')"
      ]
    },
    {
      "cell_type": "code",
      "execution_count": null,
      "metadata": {},
      "outputs": [],
      "source": []
    }
  ],
  "metadata": {
    "colab": {
      "provenance": []
    },
    "kernelspec": {
      "display_name": "base",
      "language": "python",
      "name": "python3"
    },
    "language_info": {
      "codemirror_mode": {
        "name": "ipython",
        "version": 3
      },
      "file_extension": ".py",
      "mimetype": "text/x-python",
      "name": "python",
      "nbconvert_exporter": "python",
      "pygments_lexer": "ipython3",
      "version": "3.12.4"
    }
  },
  "nbformat": 4,
  "nbformat_minor": 0
}
